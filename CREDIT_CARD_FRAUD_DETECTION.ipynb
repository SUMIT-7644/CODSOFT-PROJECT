{
 "cells": [
  {
   "cell_type": "markdown",
   "id": "71f3b818-a3f0-4fb6-8c49-8ef53ce38132",
   "metadata": {},
   "source": [
    "#                          CREDIT CARD FRAUD DETECTION\n"
   ]
  },
  {
   "cell_type": "code",
   "execution_count": null,
   "id": "d182ae1e-b71f-4e6c-8502-23869f778670",
   "metadata": {},
   "outputs": [],
   "source": [
    "import pandas as pd"
   ]
  },
  {
   "cell_type": "markdown",
   "id": "323136e6-3a74-47b0-9e55-d2ef0b208375",
   "metadata": {},
   "source": [
    "#### DATA LOADING"
   ]
  },
  {
   "cell_type": "code",
   "execution_count": 2,
   "id": "2ccd3b87-e014-4176-a913-fbe81d7e30df",
   "metadata": {},
   "outputs": [],
   "source": [
    "df = pd.read_csv(\"fraudTrain.csv\")"
   ]
  },
  {
   "cell_type": "code",
   "execution_count": 3,
   "id": "9c8fa3a6-8543-4339-bb44-a7803ab58dba",
   "metadata": {},
   "outputs": [
    {
     "data": {
      "text/plain": [
       "(1296675, 23)"
      ]
     },
     "execution_count": 3,
     "metadata": {},
     "output_type": "execute_result"
    }
   ],
   "source": [
    "df.shape"
   ]
  },
  {
   "cell_type": "code",
   "execution_count": 4,
   "id": "813ac1f0-65b9-4028-9751-4792c11983e1",
   "metadata": {},
   "outputs": [
    {
     "data": {
      "text/html": [
       "<div>\n",
       "<style scoped>\n",
       "    .dataframe tbody tr th:only-of-type {\n",
       "        vertical-align: middle;\n",
       "    }\n",
       "\n",
       "    .dataframe tbody tr th {\n",
       "        vertical-align: top;\n",
       "    }\n",
       "\n",
       "    .dataframe thead th {\n",
       "        text-align: right;\n",
       "    }\n",
       "</style>\n",
       "<table border=\"1\" class=\"dataframe\">\n",
       "  <thead>\n",
       "    <tr style=\"text-align: right;\">\n",
       "      <th></th>\n",
       "      <th>Unnamed: 0</th>\n",
       "      <th>trans_date_trans_time</th>\n",
       "      <th>cc_num</th>\n",
       "      <th>merchant</th>\n",
       "      <th>category</th>\n",
       "      <th>amt</th>\n",
       "      <th>first</th>\n",
       "      <th>last</th>\n",
       "      <th>gender</th>\n",
       "      <th>street</th>\n",
       "      <th>...</th>\n",
       "      <th>lat</th>\n",
       "      <th>long</th>\n",
       "      <th>city_pop</th>\n",
       "      <th>job</th>\n",
       "      <th>dob</th>\n",
       "      <th>trans_num</th>\n",
       "      <th>unix_time</th>\n",
       "      <th>merch_lat</th>\n",
       "      <th>merch_long</th>\n",
       "      <th>is_fraud</th>\n",
       "    </tr>\n",
       "  </thead>\n",
       "  <tbody>\n",
       "    <tr>\n",
       "      <th>650540</th>\n",
       "      <td>650540</td>\n",
       "      <td>2019-10-04 12:32:19</td>\n",
       "      <td>2512312531485080</td>\n",
       "      <td>fraud_Altenwerth-Kilback</td>\n",
       "      <td>home</td>\n",
       "      <td>18.43</td>\n",
       "      <td>John</td>\n",
       "      <td>Mccormick</td>\n",
       "      <td>M</td>\n",
       "      <td>79414 Clark Lakes Suite 966</td>\n",
       "      <td>...</td>\n",
       "      <td>42.5164</td>\n",
       "      <td>-82.9832</td>\n",
       "      <td>134056</td>\n",
       "      <td>Producer, radio</td>\n",
       "      <td>1956-10-08</td>\n",
       "      <td>0f9a3a63911ddc3b5c1b058fe6a26b20</td>\n",
       "      <td>1349353939</td>\n",
       "      <td>42.740226</td>\n",
       "      <td>-83.734657</td>\n",
       "      <td>0</td>\n",
       "    </tr>\n",
       "    <tr>\n",
       "      <th>1241433</th>\n",
       "      <td>1241433</td>\n",
       "      <td>2020-06-01 16:18:42</td>\n",
       "      <td>4736845434667908128</td>\n",
       "      <td>fraud_Wilkinson Ltd</td>\n",
       "      <td>entertainment</td>\n",
       "      <td>60.73</td>\n",
       "      <td>Toni</td>\n",
       "      <td>Gomez</td>\n",
       "      <td>F</td>\n",
       "      <td>062 Carl Dam</td>\n",
       "      <td>...</td>\n",
       "      <td>44.8816</td>\n",
       "      <td>-73.6408</td>\n",
       "      <td>2148</td>\n",
       "      <td>Surveyor, land/geomatics</td>\n",
       "      <td>1953-05-23</td>\n",
       "      <td>2fb3633e29c2c2785a0edd8a9238f3fa</td>\n",
       "      <td>1370103522</td>\n",
       "      <td>44.922583</td>\n",
       "      <td>-73.593530</td>\n",
       "      <td>0</td>\n",
       "    </tr>\n",
       "    <tr>\n",
       "      <th>555642</th>\n",
       "      <td>555642</td>\n",
       "      <td>2019-08-25 11:52:57</td>\n",
       "      <td>6011252220172077</td>\n",
       "      <td>fraud_Luettgen PLC</td>\n",
       "      <td>gas_transport</td>\n",
       "      <td>49.31</td>\n",
       "      <td>Melvin</td>\n",
       "      <td>Wright</td>\n",
       "      <td>M</td>\n",
       "      <td>210 Dean Causeway Suite 130</td>\n",
       "      <td>...</td>\n",
       "      <td>42.9782</td>\n",
       "      <td>-96.0173</td>\n",
       "      <td>1700</td>\n",
       "      <td>Engineer, land</td>\n",
       "      <td>2001-12-19</td>\n",
       "      <td>12f18048546d0e360c8dad1866cde2af</td>\n",
       "      <td>1345895577</td>\n",
       "      <td>42.122964</td>\n",
       "      <td>-96.630508</td>\n",
       "      <td>0</td>\n",
       "    </tr>\n",
       "    <tr>\n",
       "      <th>644582</th>\n",
       "      <td>644582</td>\n",
       "      <td>2019-09-30 23:48:35</td>\n",
       "      <td>6528911529051375</td>\n",
       "      <td>fraud_Skiles LLC</td>\n",
       "      <td>home</td>\n",
       "      <td>58.67</td>\n",
       "      <td>Diane</td>\n",
       "      <td>Smith</td>\n",
       "      <td>F</td>\n",
       "      <td>195 Murray Overpass Apt. 384</td>\n",
       "      <td>...</td>\n",
       "      <td>45.8327</td>\n",
       "      <td>-91.0144</td>\n",
       "      <td>1478</td>\n",
       "      <td>Neurosurgeon</td>\n",
       "      <td>1965-04-27</td>\n",
       "      <td>a5785004c05e79e93faf4d6af38ddd94</td>\n",
       "      <td>1349048915</td>\n",
       "      <td>46.216394</td>\n",
       "      <td>-91.664992</td>\n",
       "      <td>0</td>\n",
       "    </tr>\n",
       "    <tr>\n",
       "      <th>970826</th>\n",
       "      <td>970826</td>\n",
       "      <td>2020-01-27 15:01:25</td>\n",
       "      <td>213191402330021</td>\n",
       "      <td>fraud_Kautzer and Sons</td>\n",
       "      <td>personal_care</td>\n",
       "      <td>8.61</td>\n",
       "      <td>Thomas</td>\n",
       "      <td>Sullivan</td>\n",
       "      <td>M</td>\n",
       "      <td>464 Newman Crossroad</td>\n",
       "      <td>...</td>\n",
       "      <td>42.9676</td>\n",
       "      <td>-88.0434</td>\n",
       "      <td>817312</td>\n",
       "      <td>Accountant, chartered public finance</td>\n",
       "      <td>2004-03-18</td>\n",
       "      <td>6fadc7e0f108b59ff57ab8dcc0f67051</td>\n",
       "      <td>1359298885</td>\n",
       "      <td>42.313311</td>\n",
       "      <td>-88.968076</td>\n",
       "      <td>0</td>\n",
       "    </tr>\n",
       "  </tbody>\n",
       "</table>\n",
       "<p>5 rows × 23 columns</p>\n",
       "</div>"
      ],
      "text/plain": [
       "         Unnamed: 0 trans_date_trans_time               cc_num  \\\n",
       "650540       650540   2019-10-04 12:32:19     2512312531485080   \n",
       "1241433     1241433   2020-06-01 16:18:42  4736845434667908128   \n",
       "555642       555642   2019-08-25 11:52:57     6011252220172077   \n",
       "644582       644582   2019-09-30 23:48:35     6528911529051375   \n",
       "970826       970826   2020-01-27 15:01:25      213191402330021   \n",
       "\n",
       "                         merchant       category    amt   first       last  \\\n",
       "650540   fraud_Altenwerth-Kilback           home  18.43    John  Mccormick   \n",
       "1241433       fraud_Wilkinson Ltd  entertainment  60.73    Toni      Gomez   \n",
       "555642         fraud_Luettgen PLC  gas_transport  49.31  Melvin     Wright   \n",
       "644582           fraud_Skiles LLC           home  58.67   Diane      Smith   \n",
       "970826     fraud_Kautzer and Sons  personal_care   8.61  Thomas   Sullivan   \n",
       "\n",
       "        gender                        street  ...      lat     long  city_pop  \\\n",
       "650540       M   79414 Clark Lakes Suite 966  ...  42.5164 -82.9832    134056   \n",
       "1241433      F                  062 Carl Dam  ...  44.8816 -73.6408      2148   \n",
       "555642       M   210 Dean Causeway Suite 130  ...  42.9782 -96.0173      1700   \n",
       "644582       F  195 Murray Overpass Apt. 384  ...  45.8327 -91.0144      1478   \n",
       "970826       M          464 Newman Crossroad  ...  42.9676 -88.0434    817312   \n",
       "\n",
       "                                          job         dob  \\\n",
       "650540                        Producer, radio  1956-10-08   \n",
       "1241433              Surveyor, land/geomatics  1953-05-23   \n",
       "555642                         Engineer, land  2001-12-19   \n",
       "644582                           Neurosurgeon  1965-04-27   \n",
       "970826   Accountant, chartered public finance  2004-03-18   \n",
       "\n",
       "                                trans_num   unix_time  merch_lat merch_long  \\\n",
       "650540   0f9a3a63911ddc3b5c1b058fe6a26b20  1349353939  42.740226 -83.734657   \n",
       "1241433  2fb3633e29c2c2785a0edd8a9238f3fa  1370103522  44.922583 -73.593530   \n",
       "555642   12f18048546d0e360c8dad1866cde2af  1345895577  42.122964 -96.630508   \n",
       "644582   a5785004c05e79e93faf4d6af38ddd94  1349048915  46.216394 -91.664992   \n",
       "970826   6fadc7e0f108b59ff57ab8dcc0f67051  1359298885  42.313311 -88.968076   \n",
       "\n",
       "         is_fraud  \n",
       "650540          0  \n",
       "1241433         0  \n",
       "555642          0  \n",
       "644582          0  \n",
       "970826          0  \n",
       "\n",
       "[5 rows x 23 columns]"
      ]
     },
     "execution_count": 4,
     "metadata": {},
     "output_type": "execute_result"
    }
   ],
   "source": [
    "df.sample(5)"
   ]
  },
  {
   "cell_type": "code",
   "execution_count": 5,
   "id": "238d1f71-86f2-44fa-bd2e-13ff0d668629",
   "metadata": {},
   "outputs": [
    {
     "name": "stdout",
     "output_type": "stream",
     "text": [
      "<class 'pandas.core.frame.DataFrame'>\n",
      "RangeIndex: 1296675 entries, 0 to 1296674\n",
      "Data columns (total 23 columns):\n",
      " #   Column                 Non-Null Count    Dtype  \n",
      "---  ------                 --------------    -----  \n",
      " 0   Unnamed: 0             1296675 non-null  int64  \n",
      " 1   trans_date_trans_time  1296675 non-null  object \n",
      " 2   cc_num                 1296675 non-null  int64  \n",
      " 3   merchant               1296675 non-null  object \n",
      " 4   category               1296675 non-null  object \n",
      " 5   amt                    1296675 non-null  float64\n",
      " 6   first                  1296675 non-null  object \n",
      " 7   last                   1296675 non-null  object \n",
      " 8   gender                 1296675 non-null  object \n",
      " 9   street                 1296675 non-null  object \n",
      " 10  city                   1296675 non-null  object \n",
      " 11  state                  1296675 non-null  object \n",
      " 12  zip                    1296675 non-null  int64  \n",
      " 13  lat                    1296675 non-null  float64\n",
      " 14  long                   1296675 non-null  float64\n",
      " 15  city_pop               1296675 non-null  int64  \n",
      " 16  job                    1296675 non-null  object \n",
      " 17  dob                    1296675 non-null  object \n",
      " 18  trans_num              1296675 non-null  object \n",
      " 19  unix_time              1296675 non-null  int64  \n",
      " 20  merch_lat              1296675 non-null  float64\n",
      " 21  merch_long             1296675 non-null  float64\n",
      " 22  is_fraud               1296675 non-null  int64  \n",
      "dtypes: float64(5), int64(6), object(12)\n",
      "memory usage: 227.5+ MB\n"
     ]
    }
   ],
   "source": [
    "df.info() "
   ]
  },
  {
   "cell_type": "markdown",
   "id": "c0672081-e07c-44d3-97fb-81427ccf5fb4",
   "metadata": {},
   "source": [
    "#### SELECTION OF DATA"
   ]
  },
  {
   "cell_type": "code",
   "execution_count": 6,
   "id": "4ab99f25-44d0-40f6-a4ad-54e941d03e9f",
   "metadata": {},
   "outputs": [],
   "source": [
    "df = df.drop(['Unnamed: 0','trans_date_trans_time','cc_num','first','last','street','city','job','trans_num','merchant','category','gender','state','dob'], axis =1)"
   ]
  },
  {
   "cell_type": "code",
   "execution_count": 7,
   "id": "76c4b833-3981-4516-b8b7-e374e8275640",
   "metadata": {},
   "outputs": [
    {
     "data": {
      "text/plain": [
       "amt           0\n",
       "zip           0\n",
       "lat           0\n",
       "long          0\n",
       "city_pop      0\n",
       "unix_time     0\n",
       "merch_lat     0\n",
       "merch_long    0\n",
       "is_fraud      0\n",
       "dtype: int64"
      ]
     },
     "execution_count": 7,
     "metadata": {},
     "output_type": "execute_result"
    }
   ],
   "source": [
    "df.isnull().sum()"
   ]
  },
  {
   "cell_type": "markdown",
   "id": "f582f00d-72d7-4d1f-b1c6-9f4631ff2013",
   "metadata": {},
   "source": [
    "### SCAILING OF DATA"
   ]
  },
  {
   "cell_type": "code",
   "execution_count": 8,
   "id": "1579d1fc-f7fc-47db-9b77-5c24eed7b7a5",
   "metadata": {},
   "outputs": [],
   "source": [
    "from sklearn.preprocessing import StandardScaler\n",
    "sc = StandardScaler()"
   ]
  },
  {
   "cell_type": "code",
   "execution_count": 9,
   "id": "9aefe8ab-e1ea-4018-86c7-653753925aca",
   "metadata": {},
   "outputs": [],
   "source": [
    "df['amt'] = sc.fit_transform(pd.DataFrame(df['amt']))\n",
    "df['zip'] = sc.fit_transform(pd.DataFrame(df['zip']))\n",
    "df['lat'] = sc.fit_transform(pd.DataFrame(df['lat']))\n",
    "df['long'] = sc.fit_transform(pd.DataFrame(df['long']))\n",
    "df['city_pop'] = sc.fit_transform(pd.DataFrame(df['city_pop']))\n",
    "df['unix_time'] = sc.fit_transform(pd.DataFrame(df['unix_time']))\n",
    "df['merch_lat'] = sc.fit_transform(pd.DataFrame(df['merch_lat']))\n",
    "df['merch_long'] = sc.fit_transform(pd.DataFrame(df['amt']))"
   ]
  },
  {
   "cell_type": "code",
   "execution_count": 10,
   "id": "86b2527c-3256-4f04-ab8c-433d8027e5f8",
   "metadata": {},
   "outputs": [],
   "source": [
    "# from sklearn.preprocessing import MinMaxScaler\n",
    "\n",
    "# sc = MinMaxScaler()\n"
   ]
  },
  {
   "cell_type": "code",
   "execution_count": 11,
   "id": "61acbcbe-6143-4a51-9d4f-8783a606a758",
   "metadata": {},
   "outputs": [],
   "source": [
    "# df['amt'] = sc.fit_transform(pd.DataFrame(df['amt']))\n",
    "# df['zip'] = sc.fit_transform(pd.DataFrame(df['zip']))\n",
    "# df['lat'] = sc.fit_transform(pd.DataFrame(df['lat']))\n",
    "# df['long'] = sc.fit_transform(pd.DataFrame(df['long']))\n",
    "# df['city_pop'] = sc.fit_transform(pd.DataFrame(df['city_pop']))\n",
    "# df['unix_time'] = sc.fit_transform(pd.DataFrame(df['unix_time']))\n",
    "# df['merch_lat'] = sc.fit_transform(pd.DataFrame(df['merch_lat']))\n",
    "# df['merch_long'] = sc.fit_transform(pd.DataFrame(df['amt']))"
   ]
  },
  {
   "cell_type": "code",
   "execution_count": 12,
   "id": "810136a5-dfb5-49c7-9395-9b6734447853",
   "metadata": {},
   "outputs": [
    {
     "data": {
      "text/html": [
       "<div>\n",
       "<style scoped>\n",
       "    .dataframe tbody tr th:only-of-type {\n",
       "        vertical-align: middle;\n",
       "    }\n",
       "\n",
       "    .dataframe tbody tr th {\n",
       "        vertical-align: top;\n",
       "    }\n",
       "\n",
       "    .dataframe thead th {\n",
       "        text-align: right;\n",
       "    }\n",
       "</style>\n",
       "<table border=\"1\" class=\"dataframe\">\n",
       "  <thead>\n",
       "    <tr style=\"text-align: right;\">\n",
       "      <th></th>\n",
       "      <th>amt</th>\n",
       "      <th>zip</th>\n",
       "      <th>lat</th>\n",
       "      <th>long</th>\n",
       "      <th>city_pop</th>\n",
       "      <th>unix_time</th>\n",
       "      <th>merch_lat</th>\n",
       "      <th>merch_long</th>\n",
       "      <th>is_fraud</th>\n",
       "    </tr>\n",
       "  </thead>\n",
       "  <tbody>\n",
       "    <tr>\n",
       "      <th>0</th>\n",
       "      <td>-0.407826</td>\n",
       "      <td>-0.749136</td>\n",
       "      <td>-0.484420</td>\n",
       "      <td>0.657620</td>\n",
       "      <td>-0.282589</td>\n",
       "      <td>-1.858664</td>\n",
       "      <td>-0.494354</td>\n",
       "      <td>-0.407826</td>\n",
       "      <td>0</td>\n",
       "    </tr>\n",
       "    <tr>\n",
       "      <th>1</th>\n",
       "      <td>0.230039</td>\n",
       "      <td>1.872567</td>\n",
       "      <td>2.039120</td>\n",
       "      <td>-2.033870</td>\n",
       "      <td>-0.293670</td>\n",
       "      <td>-1.858662</td>\n",
       "      <td>2.078699</td>\n",
       "      <td>0.230039</td>\n",
       "      <td>0</td>\n",
       "    </tr>\n",
       "    <tr>\n",
       "      <th>2</th>\n",
       "      <td>0.934149</td>\n",
       "      <td>1.281042</td>\n",
       "      <td>0.717754</td>\n",
       "      <td>-1.601537</td>\n",
       "      <td>-0.280406</td>\n",
       "      <td>-1.858662</td>\n",
       "      <td>0.902849</td>\n",
       "      <td>0.934149</td>\n",
       "      <td>0</td>\n",
       "    </tr>\n",
       "    <tr>\n",
       "      <th>3</th>\n",
       "      <td>-0.158132</td>\n",
       "      <td>0.402753</td>\n",
       "      <td>1.515617</td>\n",
       "      <td>-1.590766</td>\n",
       "      <td>-0.287742</td>\n",
       "      <td>-1.858660</td>\n",
       "      <td>1.662886</td>\n",
       "      <td>-0.158132</td>\n",
       "      <td>0</td>\n",
       "    </tr>\n",
       "    <tr>\n",
       "      <th>4</th>\n",
       "      <td>-0.177094</td>\n",
       "      <td>-0.906090</td>\n",
       "      <td>-0.023035</td>\n",
       "      <td>0.782279</td>\n",
       "      <td>-0.293835</td>\n",
       "      <td>-1.858651</td>\n",
       "      <td>0.026941</td>\n",
       "      <td>-0.177094</td>\n",
       "      <td>0</td>\n",
       "    </tr>\n",
       "  </tbody>\n",
       "</table>\n",
       "</div>"
      ],
      "text/plain": [
       "        amt       zip       lat      long  city_pop  unix_time  merch_lat  \\\n",
       "0 -0.407826 -0.749136 -0.484420  0.657620 -0.282589  -1.858664  -0.494354   \n",
       "1  0.230039  1.872567  2.039120 -2.033870 -0.293670  -1.858662   2.078699   \n",
       "2  0.934149  1.281042  0.717754 -1.601537 -0.280406  -1.858662   0.902849   \n",
       "3 -0.158132  0.402753  1.515617 -1.590766 -0.287742  -1.858660   1.662886   \n",
       "4 -0.177094 -0.906090 -0.023035  0.782279 -0.293835  -1.858651   0.026941   \n",
       "\n",
       "   merch_long  is_fraud  \n",
       "0   -0.407826         0  \n",
       "1    0.230039         0  \n",
       "2    0.934149         0  \n",
       "3   -0.158132         0  \n",
       "4   -0.177094         0  "
      ]
     },
     "execution_count": 12,
     "metadata": {},
     "output_type": "execute_result"
    }
   ],
   "source": [
    "df.head()"
   ]
  },
  {
   "cell_type": "markdown",
   "id": "61c9fc79-9a60-4047-bf72-888a8fb69849",
   "metadata": {},
   "source": [
    "## STATISTICAL OBSERVATION"
   ]
  },
  {
   "cell_type": "code",
   "execution_count": 13,
   "id": "6e5f76c9-482a-484b-8be9-9546f8771e4d",
   "metadata": {},
   "outputs": [],
   "source": [
    "correct = df[df['is_fraud']==0]\n",
    "fraud = df[df['is_fraud']==1]"
   ]
  },
  {
   "cell_type": "code",
   "execution_count": 14,
   "id": "040a653f-66d1-455d-bbff-3df26c6a8460",
   "metadata": {},
   "outputs": [
    {
     "data": {
      "text/plain": [
       "count    1.289169e+06\n",
       "mean    -1.674147e-02\n",
       "std      9.606527e-01\n",
       "min     -4.325897e-01\n",
       "25%     -3.788832e-01\n",
       "50%     -1.439098e-01\n",
       "75%      7.603088e-02\n",
       "max      1.801352e+02\n",
       "Name: amt, dtype: float64"
      ]
     },
     "execution_count": 14,
     "metadata": {},
     "output_type": "execute_result"
    }
   ],
   "source": [
    "correct.amt.describe()\n"
   ]
  },
  {
   "cell_type": "code",
   "execution_count": 15,
   "id": "9fc224bf-2e47-47a6-838c-eecbeddd948e",
   "metadata": {},
   "outputs": [
    {
     "data": {
      "text/plain": [
       "count    7506.000000\n",
       "mean        2.875378\n",
       "std         2.436189\n",
       "min        -0.432215\n",
       "25%         1.093537\n",
       "50%         2.034445\n",
       "75%         5.180544\n",
       "max         8.144472\n",
       "Name: amt, dtype: float64"
      ]
     },
     "execution_count": 15,
     "metadata": {},
     "output_type": "execute_result"
    }
   ],
   "source": [
    "fraud.amt.describe()"
   ]
  },
  {
   "cell_type": "markdown",
   "id": "d2403969-6dd4-4331-885e-9b9fb89016b7",
   "metadata": {},
   "source": [
    "## data is imbalance \n"
   ]
  },
  {
   "cell_type": "markdown",
   "id": "eaf8a404-1029-4695-8c14-0ab1893b4731",
   "metadata": {},
   "source": [
    "## balancing dataset using over_sampling"
   ]
  },
  {
   "cell_type": "code",
   "execution_count": 50,
   "id": "36d2ad77-1bb6-4401-b302-e9054e933954",
   "metadata": {},
   "outputs": [],
   "source": [
    "X = df.drop('is_fraud', axis = 1)\n",
    "y=df['is_fraud']"
   ]
  },
  {
   "cell_type": "code",
   "execution_count": 51,
   "id": "31826825-9f7c-4e23-b77d-b2b9a41948c2",
   "metadata": {},
   "outputs": [],
   "source": [
    "from imblearn.over_sampling import SMOTE"
   ]
  },
  {
   "cell_type": "code",
   "execution_count": 52,
   "id": "1f72a5e1-cc57-4620-85bd-ed72d0f2bdc1",
   "metadata": {},
   "outputs": [],
   "source": [
    "X_res, y_res = SMOTE().fit_resample(X,y)"
   ]
  },
  {
   "cell_type": "markdown",
   "id": "c8598de7-7fa2-478a-94aa-5bad14d0aed7",
   "metadata": {},
   "source": [
    "## TRAIN TEST SPLIT"
   ]
  },
  {
   "cell_type": "code",
   "execution_count": 20,
   "id": "773d8c13-6671-4bfd-aaca-aba1d7ffab72",
   "metadata": {},
   "outputs": [],
   "source": [
    "from sklearn.model_selection import train_test_split"
   ]
  },
  {
   "cell_type": "code",
   "execution_count": 53,
   "id": "f291357a-79ad-4754-9c97-1f0e880f3a24",
   "metadata": {},
   "outputs": [],
   "source": [
    "X_train, X_test, y_train, y_test = train_test_split(X_res, y_res, test_size = 0.2, random_state = 42)"
   ]
  },
  {
   "cell_type": "markdown",
   "id": "48baa8d3-88ad-41e6-8c99-7032091bf998",
   "metadata": {},
   "source": [
    "## MODEL SELECTION"
   ]
  },
  {
   "cell_type": "code",
   "execution_count": 22,
   "id": "928bc0a0-94db-4fd3-a1f6-f11406daa781",
   "metadata": {},
   "outputs": [],
   "source": [
    "import numpy as np\n",
    "from sklearn.linear_model import LogisticRegression\n",
    "from sklearn.ensemble import RandomForestClassifier\n",
    "from sklearn.tree import DecisionTreeClassifier\n",
    "from sklearn.metrics import accuracy_score, f1_score, precision_score, recall_score"
   ]
  },
  {
   "cell_type": "code",
   "execution_count": 27,
   "id": "a8ff27fb-7427-49ea-b6d7-a008b178a245",
   "metadata": {},
   "outputs": [],
   "source": [
    "model1 =  LogisticRegression()\n",
    "model2 = DecisionTreeClassifier()\n",
    "model3 = RandomForestClassifier()"
   ]
  },
  {
   "cell_type": "markdown",
   "id": "2c3633d5-8201-4756-9f0b-0f6b7d325332",
   "metadata": {},
   "source": [
    "## MODEL1 - LOGISTIC REGRESSION"
   ]
  },
  {
   "cell_type": "code",
   "execution_count": 54,
   "id": "b1bab271-c59a-479f-aa98-ca204dcb310a",
   "metadata": {},
   "outputs": [
    {
     "name": "stdout",
     "output_type": "stream",
     "text": [
      "\n",
      " Accuaracy: 0.8565608104439291\n",
      "\n",
      " Precision: 0.9428792250123612\n",
      "\n",
      " Recall: 0.7598749622797719\n",
      "\n",
      " F1 Score: 0.8415428614273932\n"
     ]
    }
   ],
   "source": [
    "model1.fit(X_train, y_train)\n",
    "y_pred = model1.predict(X_test)\n",
    "print(f\"\\n Accuaracy: {accuracy_score(y_test, y_pred)}\")\n",
    "print(f\"\\n Precision: {precision_score(y_test, y_pred)}\")\n",
    "print(f\"\\n Recall: {recall_score(y_test, y_pred)}\")\n",
    "print(f\"\\n F1 Score: {f1_score(y_test, y_pred)}\")"
   ]
  },
  {
   "cell_type": "markdown",
   "id": "432e43e9-50de-4b44-b8d7-fdc90f337ed4",
   "metadata": {},
   "source": [
    "## MODEL2 - DECISION TREE CLASSIFIER"
   ]
  },
  {
   "cell_type": "code",
   "execution_count": 32,
   "id": "7ceb78e5-6932-42c0-8966-a7d09d2986fb",
   "metadata": {},
   "outputs": [
    {
     "name": "stdout",
     "output_type": "stream",
     "text": [
      "\n",
      " Accuaracy: 0.9917776553906777\n",
      "\n",
      " Precision: 0.9894841819918061\n",
      "\n",
      " Recall: 0.99416206931237\n",
      "\n",
      " F1 Score: 0.9918176098929729\n"
     ]
    }
   ],
   "source": [
    "model2.fit(X_train, y_train)\n",
    "y_pred1 = model2.predict(X_test)\n",
    "print(f\"\\n Accuaracy: {accuracy_score(y_test, y_pred1)}\")\n",
    "print(f\"\\n Precision: {precision_score(y_test, y_pred1)}\")\n",
    "print(f\"\\n Recall: {recall_score(y_test, y_pred1)}\")\n",
    "print(f\"\\n F1 Score: {f1_score(y_test, y_pred1)}\")"
   ]
  },
  {
   "cell_type": "markdown",
   "id": "e72d7a09-d861-4026-82c5-321c8f98a7f4",
   "metadata": {},
   "source": [
    "## MODEL3 - RANDOM FOREST CLASSIFIER"
   ]
  },
  {
   "cell_type": "code",
   "execution_count": 33,
   "id": "a3345425-e011-4f9c-bfb5-6a2150d16d6a",
   "metadata": {},
   "outputs": [
    {
     "name": "stdout",
     "output_type": "stream",
     "text": [
      "\n",
      " Accuaracy: 0.9960808116850377\n",
      "\n",
      " Precision: 0.9933175601592706\n",
      "\n",
      " Recall: 0.9989012774583916\n",
      "\n",
      " F1 Score: 0.9961015938906325\n"
     ]
    }
   ],
   "source": [
    "model3.fit(X_train, y_train)\n",
    "y_pred2 = model3.predict(X_test)\n",
    "print(f\"\\n Accuaracy: {accuracy_score(y_test, y_pred2)}\")\n",
    "print(f\"\\n Precision: {precision_score(y_test, y_pred2)}\")\n",
    "print(f\"\\n Recall: {recall_score(y_test, y_pred2)}\")\n",
    "print(f\"\\n F1 Score: {f1_score(y_test, y_pred2)}\")"
   ]
  },
  {
   "cell_type": "markdown",
   "id": "c45dd33f-b61d-4b80-b616-bbbfc4f3b154",
   "metadata": {},
   "source": [
    "# TESTING ACUUARACY IN FRAUD TEST DATASET"
   ]
  },
  {
   "cell_type": "code",
   "execution_count": 34,
   "id": "2bb05089-9732-4277-83e5-ae2fc8d36ecc",
   "metadata": {},
   "outputs": [],
   "source": [
    "df2 = pd.read_csv(\"fraudTest.csv\")"
   ]
  },
  {
   "cell_type": "code",
   "execution_count": 36,
   "id": "5bf2d7c5-a7bc-4b99-991d-5718298b0321",
   "metadata": {},
   "outputs": [],
   "source": [
    "df2 = df2.drop(['Unnamed: 0','trans_date_trans_time','cc_num','first','last','street','city','job','trans_num','merchant','category','gender','state','dob'], axis =1)"
   ]
  },
  {
   "cell_type": "code",
   "execution_count": 38,
   "id": "8198c639-9f9e-4540-9864-abf40c86c0c7",
   "metadata": {},
   "outputs": [],
   "source": [
    "df2['amt'] = sc.fit_transform(pd.DataFrame(df2['amt']))\n",
    "df2['zip'] = sc.fit_transform(pd.DataFrame(df2['zip']))\n",
    "df2['lat'] = sc.fit_transform(pd.DataFrame(df2['lat']))\n",
    "df2['long'] = sc.fit_transform(pd.DataFrame(df2['long']))\n",
    "df2['city_pop'] = sc.fit_transform(pd.DataFrame(df2['city_pop']))\n",
    "df2['unix_time'] = sc.fit_transform(pd.DataFrame(df2['unix_time']))\n",
    "df2['merch_lat'] = sc.fit_transform(pd.DataFrame(df2['merch_lat']))\n",
    "df2['merch_long'] = sc.fit_transform(pd.DataFrame(df2['amt']))"
   ]
  },
  {
   "cell_type": "code",
   "execution_count": 55,
   "id": "a6cf377a-9b9d-4b16-9db9-0f908a4cdf85",
   "metadata": {},
   "outputs": [],
   "source": [
    "X_new= df2.drop('is_fraud', axis = 1)\n",
    "y_new=df2['is_fraud']"
   ]
  },
  {
   "cell_type": "code",
   "execution_count": 59,
   "id": "152bdbb0-e529-49ad-95d9-caac2153f19b",
   "metadata": {},
   "outputs": [],
   "source": [
    "X_res1, y_res1 = SMOTE().fit_resample(X,y)"
   ]
  },
  {
   "cell_type": "code",
   "execution_count": 60,
   "id": "4e0f5db4-c92e-4d47-a6d1-21e43636507f",
   "metadata": {},
   "outputs": [],
   "source": [
    "X_train, X_test, y_train, y_test = train_test_split(X_res1, y_res1, test_size = 0.9, random_state = 42)"
   ]
  },
  {
   "cell_type": "code",
   "execution_count": 64,
   "id": "592dc8f1-15b0-4927-9e03-86a9716840ce",
   "metadata": {},
   "outputs": [
    {
     "name": "stdout",
     "output_type": "stream",
     "text": [
      "\n",
      " Accuaracy: 0.8569324349656648\n",
      "\n",
      " Precision: 0.9423513841756312\n",
      "\n",
      " Recall: 0.76037761217957\n",
      "\n",
      " F1 Score: 0.8416405627288714\n"
     ]
    }
   ],
   "source": [
    "# model 1\n",
    "\n",
    "y1 = model1.predict(X_test)\n",
    "print(f\"\\n Accuaracy: {accuracy_score(y_test, y1)}\")\n",
    "print(f\"\\n Precision: {precision_score(y_test, y1)}\")\n",
    "print(f\"\\n Recall: {recall_score(y_test, y1)}\")\n",
    "print(f\"\\n F1 Score: {f1_score(y_test, y1)}\")"
   ]
  },
  {
   "cell_type": "code",
   "execution_count": 65,
   "id": "af164985-3518-48d8-9c8f-93b5bcca0fa9",
   "metadata": {},
   "outputs": [
    {
     "name": "stdout",
     "output_type": "stream",
     "text": [
      "\n",
      " Accuaracy: 0.9960219865934354\n",
      "\n",
      " Precision: 0.9976385013346661\n",
      "\n",
      " Recall: 0.9943977011613134\n",
      "\n",
      " F1 Score: 0.9960154650544932\n"
     ]
    }
   ],
   "source": [
    "# model 2\n",
    "\n",
    "y2 = model2.predict(X_test)\n",
    "print(f\"\\n Accuaracy: {accuracy_score(y_test, y2)}\")\n",
    "print(f\"\\n Precision: {precision_score(y_test, y2)}\")\n",
    "print(f\"\\n Recall: {recall_score(y_test, y2)}\")\n",
    "print(f\"\\n F1 Score: {f1_score(y_test, y2)}\")"
   ]
  },
  {
   "cell_type": "code",
   "execution_count": 66,
   "id": "5826a6bf-9a88-4011-ae62-46e48ffcce0e",
   "metadata": {},
   "outputs": [
    {
     "name": "stdout",
     "output_type": "stream",
     "text": [
      "\n",
      " Accuaracy: 0.9987696643618522\n",
      "\n",
      " Precision: 0.998503691669172\n",
      "\n",
      " Recall: 0.999036404599746\n",
      "\n",
      " F1 Score: 0.998769977101325\n"
     ]
    }
   ],
   "source": [
    "# model 3\n",
    "\n",
    "y3 = model3.predict(X_test)\n",
    "print(f\"\\n Accuaracy: {accuracy_score(y_test, y3)}\")\n",
    "print(f\"\\n Precision: {precision_score(y_test, y3)}\")\n",
    "print(f\"\\n Recall: {recall_score(y_test, y3)}\")\n",
    "print(f\"\\n F1 Score: {f1_score(y_test, y3)}\")"
   ]
  },
  {
   "cell_type": "code",
   "execution_count": null,
   "id": "dedd7135-551f-4776-a581-2e96ffb652c5",
   "metadata": {},
   "outputs": [],
   "source": []
  }
 ],
 "metadata": {
  "kernelspec": {
   "display_name": "Python 3 (ipykernel)",
   "language": "python",
   "name": "python3"
  },
  "language_info": {
   "codemirror_mode": {
    "name": "ipython",
    "version": 3
   },
   "file_extension": ".py",
   "mimetype": "text/x-python",
   "name": "python",
   "nbconvert_exporter": "python",
   "pygments_lexer": "ipython3",
   "version": "3.11.7"
  }
 },
 "nbformat": 4,
 "nbformat_minor": 5
}
